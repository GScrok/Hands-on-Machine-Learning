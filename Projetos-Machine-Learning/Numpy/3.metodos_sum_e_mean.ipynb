{
 "cells": [
  {
   "cell_type": "code",
   "execution_count": null,
   "metadata": {},
   "outputs": [
    {
     "name": "stdout",
     "output_type": "stream",
     "text": [
      "Soma das colunas: [ 9 12]\n",
      "Soma das linhas: [ 3  7 11]\n"
     ]
    }
   ],
   "source": [
    "import numpy as np\n",
    "\n",
    "array_2d = np.array([[1, 2],\n",
    "                     [3, 4],\n",
    "                     [5, 6]])\n",
    "\n",
    "soma_colunas = array_2d.sum(axis=0)\n",
    "soma_linhas = array_2d.sum(axis=1)\n",
    "\n",
    "print(f'Soma das colunas: {soma_colunas}')\n",
    "print(f'Soma das linhas: {soma_linhas}')"
   ]
  },
  {
   "cell_type": "code",
   "execution_count": 6,
   "metadata": {},
   "outputs": [
    {
     "name": "stdout",
     "output_type": "stream",
     "text": [
      "Média das colunas: [3. 4.]\n",
      "Média das linhas: [1.5 3.5 5.5]\n"
     ]
    }
   ],
   "source": [
    "media_colunas = array_2d.mean(axis=0)\n",
    "media_linhas = array_2d.mean(axis=1)\n",
    "\n",
    "print(f'Média das colunas: {media_colunas}')\n",
    "print(f'Média das linhas: {media_linhas}')"
   ]
  }
 ],
 "metadata": {
  "kernelspec": {
   "display_name": ".venv",
   "language": "python",
   "name": "python3"
  },
  "language_info": {
   "codemirror_mode": {
    "name": "ipython",
    "version": 3
   },
   "file_extension": ".py",
   "mimetype": "text/x-python",
   "name": "python",
   "nbconvert_exporter": "python",
   "pygments_lexer": "ipython3",
   "version": "3.13.1"
  }
 },
 "nbformat": 4,
 "nbformat_minor": 2
}
