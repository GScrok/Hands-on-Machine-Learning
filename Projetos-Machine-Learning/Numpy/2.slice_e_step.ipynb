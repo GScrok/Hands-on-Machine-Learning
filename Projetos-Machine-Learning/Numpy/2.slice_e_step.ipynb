{
 "cells": [
  {
   "cell_type": "code",
   "execution_count": null,
   "metadata": {},
   "outputs": [],
   "source": [
    "import numpy as np\n",
    "\n",
    "array_2d = np.array([[0, 1, 2, 3, 4], \n",
    "                     [5, 6, 7, 8, 9],\n",
    "                     [10, 11, 12, 13, 14]])\n",
    "\n",
    "# O primeiro ':' é slice e o segundo ':' é step\n",
    "linha_com_step = array_2d[1, ::2]\n",
    "print(linha_com_step)"
   ]
  }
 ],
 "metadata": {
  "kernelspec": {
   "display_name": ".venv",
   "language": "python",
   "name": "python3"
  },
  "language_info": {
   "name": "python",
   "version": "3.13.1"
  }
 },
 "nbformat": 4,
 "nbformat_minor": 2
}
