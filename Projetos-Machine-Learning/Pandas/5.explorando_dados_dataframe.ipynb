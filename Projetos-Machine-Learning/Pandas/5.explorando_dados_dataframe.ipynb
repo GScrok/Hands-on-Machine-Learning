{
 "cells": [
  {
   "cell_type": "code",
   "execution_count": 38,
   "metadata": {},
   "outputs": [
    {
     "name": "stdout",
     "output_type": "stream",
     "text": [
      "  ID_Curso    Instrutor              AE  Inscritos  Avaliacao\n",
      "0    MT101    Ana Silva    Marcos Lopes       55.0        4.8\n",
      "1    MT101  Bruno Gomes       Julia Vaz       43.0        4.9\n",
      "2    MT102  Carlos Dias   Sofia Cardoso       60.0        4.7\n",
      "3    MT102    Ana Silva  Rodrigo Mattos       58.0        NaN\n",
      "4    MT102   Luiz Costa    Marcos Lopes        NaN        4.5 \n",
      "    ID_Curso        Instrutor            AE  Inscritos  Avaliacao\n",
      "15    FI104   Roberta Vieira     Julia Vaz       50.0        4.7\n",
      "16    FI104        Ana Silva  Marcos Lopes       53.0        4.8\n",
      "17    HI101    Pedro Álvares   Carla Souza       44.0        4.5\n",
      "18    HI102    Sandra Moraes  Marcos Lopes       46.0        4.9\n",
      "19    HI103  Gabriel Ribeiro   Paulo Souza       49.0        4.6 \n",
      "    ID_Curso       Instrutor             AE  Inscritos  Avaliacao\n",
      "8     MT104   Sandra Moraes    Paulo Souza       55.0        4.8\n",
      "5     MT103   Sandra Moraes   Pedro Mendes       47.0        4.6\n",
      "14    FI103      Luiz Costa  Sofia Cardoso       48.0        4.5\n",
      "15    FI104  Roberta Vieira      Julia Vaz       50.0        4.7\n",
      "4     MT102      Luiz Costa   Marcos Lopes        NaN        4.5\n"
     ]
    }
   ],
   "source": [
    "import pandas as pd\n",
    "\n",
    "dataframe = pd.read_csv('pandas-sample-data.csv')\n",
    "\n",
    "# head() imprime as primeiras 5 linhas do dataframe\n",
    "# tail() imprime as últimas 5 linhas do dataframe\n",
    "# sample() imprime 5 linhas aleatórias do dataframe\n",
    "print(dataframe.head(), '\\n', dataframe.tail(), '\\n', dataframe.sample(5))"
   ]
  },
  {
   "cell_type": "code",
   "execution_count": 39,
   "metadata": {},
   "outputs": [
    {
     "name": "stdout",
     "output_type": "stream",
     "text": [
      "ID_Curso      object\n",
      "Instrutor     object\n",
      "AE            object\n",
      "Inscritos    float64\n",
      "Avaliacao    float64\n",
      "dtype: object\n",
      "\n",
      "<class 'pandas.core.frame.DataFrame'>\n",
      "RangeIndex: 20 entries, 0 to 19\n",
      "Data columns (total 5 columns):\n",
      " #   Column     Non-Null Count  Dtype  \n",
      "---  ------     --------------  -----  \n",
      " 0   ID_Curso   20 non-null     object \n",
      " 1   Instrutor  20 non-null     object \n",
      " 2   AE         20 non-null     object \n",
      " 3   Inscritos  19 non-null     float64\n",
      " 4   Avaliacao  19 non-null     float64\n",
      "dtypes: float64(2), object(3)\n",
      "memory usage: 932.0+ bytes\n",
      "None\n"
     ]
    }
   ],
   "source": [
    "# Imprime o tipo de dado de cada coluna\n",
    "print(dataframe.dtypes, end='\\n\\n')\n",
    "\n",
    "# Imprime informações sobre o dataframe\n",
    "print(dataframe.info())"
   ]
  },
  {
   "cell_type": "code",
   "execution_count": 40,
   "metadata": {},
   "outputs": [
    {
     "name": "stdout",
     "output_type": "stream",
     "text": [
      "       Inscritos  Avaliacao\n",
      "count  19.000000  19.000000\n",
      "mean   48.263158   4.684211\n",
      "std     6.126827   0.150049\n",
      "min    39.000000   4.400000\n",
      "25%    43.500000   4.600000\n",
      "50%    48.000000   4.700000\n",
      "75%    52.500000   4.800000\n",
      "max    60.000000   4.900000\n",
      "\n",
      "       ID_Curso  Instrutor            AE\n",
      "count        20         20            20\n",
      "unique       11          9             8\n",
      "top       MT102  Ana Silva  Marcos Lopes\n",
      "freq          3          3             4\n"
     ]
    }
   ],
   "source": [
    "# Imprime as estatísticas do dataframe\n",
    "print(dataframe.describe(), end='\\n\\n')\n",
    "\n",
    "print(dataframe.describe(include=[object]))"
   ]
  },
  {
   "cell_type": "code",
   "execution_count": 41,
   "metadata": {},
   "outputs": [
    {
     "name": "stdout",
     "output_type": "stream",
     "text": [
      "Instrutor\n",
      "Ana Silva          3\n",
      "Sandra Moraes      3\n",
      "Gabriel Ribeiro    3\n",
      "Carlos Dias        2\n",
      "Bruno Gomes        2\n",
      "Luiz Costa         2\n",
      "Maria Clara        2\n",
      "Roberta Vieira     2\n",
      "Pedro Álvares      1\n",
      "Name: count, dtype: int64\n",
      "\n",
      "AE\n",
      "Marcos Lopes       4\n",
      "Julia Vaz          3\n",
      "Sofia Cardoso      3\n",
      "Paulo Souza        3\n",
      "Alice Gonçalves    2\n",
      "Pedro Mendes       2\n",
      "Carla Souza        2\n",
      "Rodrigo Mattos     1\n",
      "Name: count, dtype: int64\n"
     ]
    }
   ],
   "source": [
    "# Imprime a quantidade de valores únicos de uma coluna\n",
    "print(dataframe['Instrutor'].value_counts(), end='\\n\\n')\n",
    "\n",
    "print(dataframe['AE'].value_counts())\n"
   ]
  },
  {
   "cell_type": "code",
   "execution_count": 42,
   "metadata": {},
   "outputs": [
    {
     "name": "stdout",
     "output_type": "stream",
     "text": [
      "          Instrutor               AE\n",
      "0         Ana Silva     Marcos Lopes\n",
      "1       Bruno Gomes        Julia Vaz\n",
      "2       Carlos Dias    Sofia Cardoso\n",
      "3         Ana Silva   Rodrigo Mattos\n",
      "4        Luiz Costa     Marcos Lopes\n",
      "5     Sandra Moraes     Pedro Mendes\n",
      "6       Bruno Gomes  Alice Gonçalves\n",
      "7       Carlos Dias        Julia Vaz\n",
      "8     Sandra Moraes      Paulo Souza\n",
      "9   Gabriel Ribeiro      Carla Souza\n",
      "10      Maria Clara    Sofia Cardoso\n",
      "11  Gabriel Ribeiro      Paulo Souza\n",
      "12   Roberta Vieira     Pedro Mendes\n",
      "13      Maria Clara  Alice Gonçalves\n",
      "14       Luiz Costa    Sofia Cardoso\n",
      "15   Roberta Vieira        Julia Vaz\n",
      "16        Ana Silva     Marcos Lopes\n",
      "17    Pedro Álvares      Carla Souza\n",
      "18    Sandra Moraes     Marcos Lopes\n",
      "19  Gabriel Ribeiro      Paulo Souza\n",
      "\n",
      "   ID_Curso        Instrutor               AE  Inscritos  Avaliacao\n",
      "4     MT102       Luiz Costa     Marcos Lopes        NaN        4.5\n",
      "5     MT103    Sandra Moraes     Pedro Mendes       47.0        4.6\n",
      "7     MT104      Carlos Dias        Julia Vaz       52.0        4.4\n",
      "11    FI102  Gabriel Ribeiro      Paulo Souza       39.0        4.6\n",
      "13    FI103      Maria Clara  Alice Gonçalves       45.0        4.6\n",
      "14    FI103       Luiz Costa    Sofia Cardoso       48.0        4.5\n",
      "17    HI101    Pedro Álvares      Carla Souza       44.0        4.5\n",
      "19    HI103  Gabriel Ribeiro      Paulo Souza       49.0        4.6\n"
     ]
    }
   ],
   "source": [
    "# Seleciona colunas específicas do dataframe\n",
    "novo_dataframe = dataframe[['Instrutor', 'AE']]\n",
    "print(novo_dataframe, end='\\n\\n')\n",
    "\n",
    "novo_dataframe = dataframe[dataframe['Avaliacao'] <= 4.6]\n",
    "print(novo_dataframe)"
   ]
  },
  {
   "cell_type": "code",
   "execution_count": 43,
   "metadata": {},
   "outputs": [
    {
     "name": "stdout",
     "output_type": "stream",
     "text": [
      "   ID_Curso        Instrutor               AE  Inscritos  Avaliacao\n",
      "5     MT103    Sandra Moraes     Pedro Mendes       47.0        4.6\n",
      "11    FI102  Gabriel Ribeiro      Paulo Souza       39.0        4.6\n",
      "19    HI103  Gabriel Ribeiro      Paulo Souza       49.0        4.6\n",
      "13    FI103      Maria Clara  Alice Gonçalves       45.0        4.6\n",
      "14    FI103       Luiz Costa    Sofia Cardoso       48.0        4.5\n",
      "4     MT102       Luiz Costa     Marcos Lopes        NaN        4.5\n",
      "17    HI101    Pedro Álvares      Carla Souza       44.0        4.5\n",
      "7     MT104      Carlos Dias        Julia Vaz       52.0        4.4\n"
     ]
    },
    {
     "name": "stderr",
     "output_type": "stream",
     "text": [
      "C:\\Users\\sckgu\\AppData\\Local\\Temp\\ipykernel_19640\\1604507280.py:2: SettingWithCopyWarning: \n",
      "A value is trying to be set on a copy of a slice from a DataFrame\n",
      "\n",
      "See the caveats in the documentation: https://pandas.pydata.org/pandas-docs/stable/user_guide/indexing.html#returning-a-view-versus-a-copy\n",
      "  novo_dataframe.sort_values(by='Avaliacao', ascending=False, inplace=True)\n"
     ]
    }
   ],
   "source": [
    "# Ordena o dataframe\n",
    "novo_dataframe.sort_values(by='Avaliacao', ascending=False, inplace=True)\n",
    "print(novo_dataframe)"
   ]
  },
  {
   "cell_type": "code",
   "execution_count": 44,
   "metadata": {},
   "outputs": [
    {
     "name": "stdout",
     "output_type": "stream",
     "text": [
      "Instrutor\n",
      "Carlos Dias        56.000000\n",
      "Ana Silva          55.333333\n",
      "Sandra Moraes      49.333333\n",
      "Luiz Costa         48.000000\n",
      "Bruno Gomes        46.500000\n",
      "Roberta Vieira     45.500000\n",
      "Pedro Álvares      44.000000\n",
      "Maria Clara        43.500000\n",
      "Gabriel Ribeiro    42.666667\n",
      "Name: Inscritos, dtype: float64\n"
     ]
    }
   ],
   "source": [
    "# Agrupa o dataframe e calcula a média dos valores\n",
    "resultados = dataframe.groupby('Instrutor')['Inscritos'].mean()\n",
    "resultados.sort_values(ascending=False, inplace=True)\n",
    "print(resultados)"
   ]
  },
  {
   "cell_type": "code",
   "execution_count": 45,
   "metadata": {},
   "outputs": [
    {
     "name": "stdout",
     "output_type": "stream",
     "text": [
      "ID_Curso     0\n",
      "Instrutor    0\n",
      "AE           0\n",
      "Inscritos    1\n",
      "Avaliacao    1\n",
      "dtype: int64\n"
     ]
    }
   ],
   "source": [
    "# Identifica valores nulos\n",
    "print(dataframe.isnull().sum())"
   ]
  },
  {
   "cell_type": "code",
   "execution_count": 46,
   "metadata": {},
   "outputs": [
    {
     "data": {
      "image/png": "[encoded data removed]",
      "text/plain": [
       "<Figure size 640x480 with 1 Axes>"
      ]
     },
     "metadata": {},
     "output_type": "display_data"
    }
   ],
   "source": [
    "# Plotando gráficos\n",
    "dataframe['Avaliacao'].plot(kind='hist', title='Avaliação dos Instrutores');"
   ]
  }
 ],
 "metadata": {
  "kernelspec": {
   "display_name": ".venv",
   "language": "python",
   "name": "python3"
  },
  "language_info": {
   "codemirror_mode": {
    "name": "ipython",
    "version": 3
   },
   "file_extension": ".py",
   "mimetype": "text/x-python",
   "name": "python",
   "nbconvert_exporter": "python",
   "pygments_lexer": "ipython3",
   "version": "3.13.1"
  }
 },
 "nbformat": 4,
 "nbformat_minor": 2
}
