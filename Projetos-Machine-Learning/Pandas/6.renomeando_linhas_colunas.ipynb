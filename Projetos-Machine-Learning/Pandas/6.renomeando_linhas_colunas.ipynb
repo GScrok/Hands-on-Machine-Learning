{
 "cells": [
  {
   "cell_type": "code",
   "execution_count": 5,
   "metadata": {},
   "outputs": [
    {
     "name": "stdout",
     "output_type": "stream",
     "text": [
      "  Código_Curso Nome_Instrutor Assistente_Ensino  Total_Inscritos  \\\n",
      "0        MT101      Ana Silva      Marcos Lopes             55.0   \n",
      "1        MT101    Bruno Gomes         Julia Vaz             43.0   \n",
      "2        MT102    Carlos Dias     Sofia Cardoso             60.0   \n",
      "3        MT102      Ana Silva    Rodrigo Mattos             58.0   \n",
      "4        MT102     Luiz Costa      Marcos Lopes              NaN   \n",
      "\n",
      "   Média_Avaliação  \n",
      "0              4.8  \n",
      "1              4.9  \n",
      "2              4.7  \n",
      "3              NaN  \n",
      "4              4.5  \n"
     ]
    }
   ],
   "source": [
    "import pandas as pd\n",
    "\n",
    "dataframe = pd.read_csv('pandas-sample-data.csv')\n",
    "\n",
    "# Renomeação pós carregamento\n",
    "dataframe.rename(columns={\n",
    "    'ID_Curso': 'Código_Curso',\n",
    "    'Instrutor': 'Nome_Instrutor',\n",
    "    'AE': 'Assistente_Ensino',\n",
    "    'Inscritos': 'Total_Inscritos',\n",
    "    'Avaliacao': 'Média_Avaliação'\n",
    "}, inplace=True)\n",
    "\n",
    "print(dataframe.head())"
   ]
  },
  {
   "cell_type": "code",
   "execution_count": null,
   "metadata": {},
   "outputs": [
    {
     "name": "stdout",
     "output_type": "stream",
     "text": [
      "         código_curso   nome_instrutor assistente_ensino  total_inscritos  \\\n",
      "linha_0         MT101        Ana Silva      Marcos Lopes             55.0   \n",
      "linha_1         MT101      Bruno Gomes         Julia Vaz             43.0   \n",
      "linha_2         MT102      Carlos Dias     Sofia Cardoso             60.0   \n",
      "linha_3         MT102        Ana Silva    Rodrigo Mattos             58.0   \n",
      "linha_4         MT102       Luiz Costa      Marcos Lopes              NaN   \n",
      "linha_5         MT103    Sandra Moraes      Pedro Mendes             47.0   \n",
      "linha_6         MT103      Bruno Gomes   Alice Gonçalves             50.0   \n",
      "linha_7         MT104      Carlos Dias         Julia Vaz             52.0   \n",
      "linha_8         MT104    Sandra Moraes       Paulo Souza             55.0   \n",
      "linha_9         FI101  Gabriel Ribeiro       Carla Souza             40.0   \n",
      "linha_10        FI101      Maria Clara     Sofia Cardoso             42.0   \n",
      "linha_11        FI102  Gabriel Ribeiro       Paulo Souza             39.0   \n",
      "linha_12        FI102   Roberta Vieira      Pedro Mendes             41.0   \n",
      "linha_13        FI103      Maria Clara   Alice Gonçalves             45.0   \n",
      "linha_14        FI103       Luiz Costa     Sofia Cardoso             48.0   \n",
      "linha_15        FI104   Roberta Vieira         Julia Vaz             50.0   \n",
      "linha_16        FI104        Ana Silva      Marcos Lopes             53.0   \n",
      "linha_17        HI101    Pedro Álvares       Carla Souza             44.0   \n",
      "linha_18        HI102    Sandra Moraes      Marcos Lopes             46.0   \n",
      "linha_19        HI103  Gabriel Ribeiro       Paulo Souza             49.0   \n",
      "\n",
      "          média_avaliação  \n",
      "linha_0               4.8  \n",
      "linha_1               4.9  \n",
      "linha_2               4.7  \n",
      "linha_3               NaN  \n",
      "linha_4               4.5  \n",
      "linha_5               4.6  \n",
      "linha_6               4.7  \n",
      "linha_7               4.4  \n",
      "linha_8               4.8  \n",
      "linha_9               4.9  \n",
      "linha_10              4.7  \n",
      "linha_11              4.6  \n",
      "linha_12              4.8  \n",
      "linha_13              4.6  \n",
      "linha_14              4.5  \n",
      "linha_15              4.7  \n",
      "linha_16              4.8  \n",
      "linha_17              4.5  \n",
      "linha_18              4.9  \n",
      "linha_19              4.6  \n"
     ]
    }
   ],
   "source": [
    "# Alteração de nomes de colunas e index\n",
    "dataframe.rename(columns=lambda x: x.lower().replace(\" \", \"_\"), \n",
    "                 index=lambda i: 'linha_{}'.format(str(i)),\n",
    "                 inplace=True)\n",
    "\n",
    "print(dataframe)"
   ]
  },
  {
   "cell_type": "code",
   "execution_count": null,
   "metadata": {},
   "outputs": [
    {
     "name": "stdout",
     "output_type": "stream",
     "text": [
      "  Código_Curso Nome_Instrutor Assistente_Ensino  Total_Inscritos  \\\n",
      "0        MT101      Ana Silva      Marcos Lopes             55.0   \n",
      "1        MT101    Bruno Gomes         Julia Vaz             43.0   \n",
      "2        MT102    Carlos Dias     Sofia Cardoso             60.0   \n",
      "3        MT102      Ana Silva    Rodrigo Mattos             58.0   \n",
      "4        MT102     Luiz Costa      Marcos Lopes              NaN   \n",
      "\n",
      "   Média_Avaliação  \n",
      "0              4.8  \n",
      "1              4.9  \n",
      "2              4.7  \n",
      "3              NaN  \n",
      "4              4.5  \n"
     ]
    }
   ],
   "source": [
    "# Renomeação de colunas no momento da leitura\n",
    "dataframe = pd.read_csv('pandas-sample-data.csv')\n",
    "dataframe.columns = ['Código_Curso', 'Nome_Instrutor', 'Assistente_Ensino', 'Total_Inscritos', 'Média_Avaliação']\n",
    "print(dataframe.head())"
   ]
  }
 ],
 "metadata": {
  "kernelspec": {
   "display_name": ".venv",
   "language": "python",
   "name": "python3"
  },
  "language_info": {
   "codemirror_mode": {
    "name": "ipython",
    "version": 3
   },
   "file_extension": ".py",
   "mimetype": "text/x-python",
   "name": "python",
   "nbconvert_exporter": "python",
   "pygments_lexer": "ipython3",
   "version": "3.13.1"
  }
 },
 "nbformat": 4,
 "nbformat_minor": 2
}
