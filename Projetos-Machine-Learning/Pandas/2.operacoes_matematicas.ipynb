{
 "cells": [
  {
   "cell_type": "code",
   "execution_count": 7,
   "metadata": {},
   "outputs": [
    {
     "name": "stdout",
     "output_type": "stream",
     "text": [
      "a    200\n",
      "b    400\n",
      "c    800\n",
      "dtype: int64\n"
     ]
    }
   ],
   "source": [
    "import pandas as pd\n",
    "\n",
    "serie = pd.Series([100, 200, 400], index=['a', 'b', 'c'])\n",
    "\n",
    "# Duplicando valor de uma serie\n",
    "serie_dobrada = serie * 2\n",
    "print(serie_dobrada)"
   ]
  },
  {
   "cell_type": "code",
   "execution_count": 8,
   "metadata": {},
   "outputs": [
    {
     "name": "stdout",
     "output_type": "stream",
     "text": [
      "233.33333333333334\n",
      "\n",
      "200.0\n",
      "\n",
      "152.75252316519467\n",
      "\n"
     ]
    }
   ],
   "source": [
    "# Calculando a média\n",
    "media = serie.mean()\n",
    "print(media, end='\\n\\n')\n",
    "\n",
    "# Encontrando a mediana\n",
    "mediana = serie.median()\n",
    "print(mediana, end='\\n\\n')\n",
    "\n",
    "# Obtendo o desvio padrão\n",
    "desvio_padrao = serie.std()\n",
    "print(desvio_padrao, end='\\n\\n')"
   ]
  },
  {
   "cell_type": "code",
   "execution_count": 10,
   "metadata": {},
   "outputs": [
    {
     "name": "stdout",
     "output_type": "stream",
     "text": [
      "a    False\n",
      "b    False\n",
      "c     True\n",
      "dtype: bool\n",
      "\n",
      "b    200\n",
      "c    400\n",
      "dtype: int64\n",
      "\n"
     ]
    }
   ],
   "source": [
    "# Verificando valores acima da média\n",
    "valores_acima_media = serie > serie.mean()\n",
    "print(valores_acima_media, end='\\n\\n')\n",
    "\n",
    "# Selecionando valores acima de um determinado threshold\n",
    "valores_selecionados = serie[serie > 100]\n",
    "print(valores_selecionados, end='\\n\\n')"
   ]
  }
 ],
 "metadata": {
  "kernelspec": {
   "display_name": ".venv",
   "language": "python",
   "name": "python3"
  },
  "language_info": {
   "codemirror_mode": {
    "name": "ipython",
    "version": 3
   },
   "file_extension": ".py",
   "mimetype": "text/x-python",
   "name": "python",
   "nbconvert_exporter": "python",
   "pygments_lexer": "ipython3",
   "version": "3.13.1"
  }
 },
 "nbformat": 4,
 "nbformat_minor": 2
}
