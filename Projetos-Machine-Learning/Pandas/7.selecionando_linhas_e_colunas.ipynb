{
 "cells": [
  {
   "cell_type": "code",
   "execution_count": null,
   "metadata": {},
   "outputs": [
    {
     "name": "stdout",
     "output_type": "stream",
     "text": [
      "0    55.0\n",
      "1    43.0\n",
      "2    60.0\n",
      "3    58.0\n",
      "4     NaN\n",
      "Name: Inscritos, dtype: float64\n",
      "0    4.8\n",
      "1    4.9\n",
      "2    4.7\n",
      "3    NaN\n",
      "4    4.5\n",
      "Name: Avaliacao, dtype: float64\n"
     ]
    }
   ],
   "source": [
    "import pandas as pd\n",
    "\n",
    "dataframe = pd.read_csv('pandas-sample-data.csv')\n",
    "\n",
    "# Seleciona a coluna por colchetes\n",
    "inscritos = dataframe['Inscritos'] \n",
    "print(inscritos.head())\n",
    "\n",
    "# Seleciona a coluna como um atributo\n",
    "avaliações = dataframe.Avaliacao\n",
    "print(avaliações.head())"
   ]
  },
  {
   "cell_type": "code",
   "execution_count": null,
   "metadata": {},
   "outputs": [
    {
     "name": "stdout",
     "output_type": "stream",
     "text": [
      "1         Bruno Gomes\n",
      "9     Gabriel Ribeiro\n",
      "18      Sandra Moraes\n",
      "8       Sandra Moraes\n",
      "16          Ana Silva\n",
      "12     Roberta Vieira\n",
      "0           Ana Silva\n",
      "15     Roberta Vieira\n",
      "6         Bruno Gomes\n",
      "2         Carlos Dias\n",
      "10        Maria Clara\n",
      "5       Sandra Moraes\n",
      "11    Gabriel Ribeiro\n",
      "13        Maria Clara\n",
      "19    Gabriel Ribeiro\n",
      "Name: Instrutor, dtype: object\n"
     ]
    }
   ],
   "source": [
    "# Usando 'loc' para selecionar linhas e a coluna 'Instrutor'\n",
    "# O metodo 'loc' é usado para selecionar linhas e colunas por rótulos\n",
    "instrutor_top_cursos = dataframe.loc[(dataframe['Avaliacao'] > 4.5), 'Instrutor']\n",
    "print(instrutor_top_cursos)"
   ]
  },
  {
   "cell_type": "code",
   "execution_count": 11,
   "metadata": {},
   "outputs": [
    {
     "name": "stdout",
     "output_type": "stream",
     "text": [
      "     Instrutor  Avaliacao\n",
      "0    Ana Silva        4.8\n",
      "1  Bruno Gomes        4.9\n",
      "2  Carlos Dias        4.7\n",
      "3    Ana Silva        NaN\n",
      "4   Luiz Costa        4.5\n"
     ]
    }
   ],
   "source": [
    "# Selecionando os primeiros 5 cursos e as colunas 'Instrutor' e 'Avaliacao'\n",
    "# O método 'iloc' é usado para selecionar linhas e colunas por índices\n",
    "primeiros_cursos = dataframe.iloc[0:5, [1,4]]\n",
    "print(primeiros_cursos)"
   ]
  }
 ],
 "metadata": {
  "kernelspec": {
   "display_name": ".venv",
   "language": "python",
   "name": "python3"
  },
  "language_info": {
   "codemirror_mode": {
    "name": "ipython",
    "version": 3
   },
   "file_extension": ".py",
   "mimetype": "text/x-python",
   "name": "python",
   "nbconvert_exporter": "python",
   "pygments_lexer": "ipython3",
   "version": "3.13.1"
  }
 },
 "nbformat": 4,
 "nbformat_minor": 2
}
