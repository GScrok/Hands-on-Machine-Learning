{
 "cells": [
  {
   "cell_type": "code",
   "execution_count": 36,
   "metadata": {},
   "outputs": [
    {
     "name": "stdout",
     "output_type": "stream",
     "text": [
      "   ID_Curso        Instrutor               AE  Inscritos  Avaliacao\n",
      "0     MT101        Ana Silva     Marcos Lopes       55.0        4.8\n",
      "1     MT101      Bruno Gomes        Julia Vaz       43.0        4.9\n",
      "2     MT102      Carlos Dias    Sofia Cardoso       60.0        4.7\n",
      "3     MT102        Ana Silva   Rodrigo Mattos       58.0        NaN\n",
      "4     MT102       Luiz Costa     Marcos Lopes       59.0        4.5\n",
      "5     MT103    Sandra Moraes     Pedro Mendes       47.0        4.6\n",
      "6     MT103      Bruno Gomes  Alice Gonçalves       50.0        4.7\n",
      "7     MT104      Carlos Dias        Julia Vaz       52.0        4.4\n",
      "8     MT104    Sandra Moraes      Paulo Souza       55.0        4.8\n",
      "9     FI101  Gabriel Ribeiro      Carla Souza       40.0        4.9\n",
      "10    FI101      Maria Clara    Sofia Cardoso       42.0        4.7\n",
      "11    FI102  Gabriel Ribeiro      Paulo Souza       39.0        4.6\n",
      "12    FI102   Roberta Vieira     Pedro Mendes       41.0        4.8\n",
      "13    FI103      Maria Clara  Alice Gonçalves       45.0        4.6\n",
      "14    FI103       Luiz Costa    Sofia Cardoso       48.0        4.5\n",
      "15    FI104   Roberta Vieira        Julia Vaz       50.0        4.7\n",
      "16    FI104        Ana Silva     Marcos Lopes       53.0        4.8\n",
      "17    HI101    Pedro Álvares      Carla Souza       44.0        4.5\n",
      "18    HI102    Sandra Moraes     Marcos Lopes       46.0        4.9\n",
      "19    HI103  Gabriel Ribeiro      Paulo Souza       49.0        4.6\n"
     ]
    }
   ],
   "source": [
    "import pandas as pd\n",
    "\n",
    "dataframe = pd.read_csv('pandas-sample-data.csv')\n",
    "dataframe.loc[(dataframe['ID_Curso'] == 'MT102') & (dataframe['Instrutor'] == 'Luiz Costa'), 'Inscritos'] = 59\n",
    "print(dataframe)"
   ]
  },
  {
   "cell_type": "code",
   "execution_count": 37,
   "metadata": {},
   "outputs": [
    {
     "name": "stdout",
     "output_type": "stream",
     "text": [
      "   ID_Curso        Instrutor               AE  Inscritos  Avaliacao\n",
      "0     MT101        Ana Silva     Marcos Lopes       55.0        4.8\n",
      "1     MT101      Bruno Gomes        Julia Vaz       43.0        4.9\n",
      "2     MT102      Carlos Dias    Sofia Cardoso       60.0        4.7\n",
      "3     MT102        Ana Silva   Rodrigo Mattos       58.0        NaN\n",
      "4     MT102       Luiz Costa     Marcos Lopes       59.0        4.5\n",
      "5     MT103    Sandra Moraes     Pedro Mendes       47.0        4.6\n",
      "6     MT103      Bruno Gomes  Alice Gonçalves       50.0        4.7\n",
      "7     MT104      Carlos Dias        Julia Vaz       52.0        4.4\n",
      "8     MT104    Sandra Moraes      Paulo Souza       55.0        4.8\n",
      "9     FI101  Gabriel Ribeiro      Carla Souza       40.0        4.9\n",
      "10    FI101      Maria Clara    Sofia Cardoso       42.0        4.7\n",
      "11    FI102  Gabriel Ribeiro      Paulo Souza       39.0        4.6\n",
      "12    FI102   Roberta Vieira     Pedro Mendes       41.0        4.8\n",
      "13    FI103      Maria Clara  Alice Gonçalves       45.0        4.6\n",
      "14    FI103       Luiz Costa    Sofia Cardoso       48.0        4.5\n",
      "15    FI104   Roberta Vieira        Julia Vaz       50.0        4.7\n",
      "16    FI104        Ana Silva     Marcos Lopes       53.0        4.8\n",
      "17    HI101    Pedro Álvares      Carla Souza       44.0        4.5\n",
      "18    HI102    Sandra Moraes     Marcos Lopes       46.0        4.9\n",
      "19    HI103  Gabriel Ribeiro      Paulo Souza       49.0        4.6\n"
     ]
    }
   ],
   "source": [
    "# Imputar a média de inscritos nos cursos onde falta essa informação\n",
    "dataframe['Inscritos'] = dataframe['Inscritos'].fillna(dataframe['Inscritos'].mean())\n",
    "print(dataframe)"
   ]
  },
  {
   "cell_type": "code",
   "execution_count": 38,
   "metadata": {},
   "outputs": [
    {
     "name": "stdout",
     "output_type": "stream",
     "text": [
      "   ID_Curso        Instrutor               AE  Inscritos  Avaliacao\n",
      "0     MT101        Ana Silva     Marcos Lopes         55        4.8\n",
      "1     MT101      Bruno Gomes        Julia Vaz         43        4.9\n",
      "2     MT102      Carlos Dias    Sofia Cardoso         60        4.7\n",
      "3     MT102        Ana Silva   Rodrigo Mattos         58        NaN\n",
      "4     MT102       Luiz Costa     Marcos Lopes         59        4.5\n",
      "5     MT103    Sandra Moraes     Pedro Mendes         47        4.6\n",
      "6     MT103      Bruno Gomes  Alice Gonçalves         50        4.7\n",
      "7     MT104      Carlos Dias        Julia Vaz         52        4.4\n",
      "8     MT104    Sandra Moraes      Paulo Souza         55        4.8\n",
      "9     FI101  Gabriel Ribeiro      Carla Souza         40        4.9\n",
      "10    FI101      Maria Clara    Sofia Cardoso         42        4.7\n",
      "11    FI102  Gabriel Ribeiro      Paulo Souza         39        4.6\n",
      "12    FI102   Roberta Vieira     Pedro Mendes         41        4.8\n",
      "13    FI103      Maria Clara  Alice Gonçalves         45        4.6\n",
      "14    FI103       Luiz Costa    Sofia Cardoso         48        4.5\n",
      "15    FI104   Roberta Vieira        Julia Vaz         50        4.7\n",
      "16    FI104        Ana Silva     Marcos Lopes         53        4.8\n",
      "17    HI101    Pedro Álvares      Carla Souza         44        4.5\n",
      "18    HI102    Sandra Moraes     Marcos Lopes         46        4.9\n",
      "19    HI103  Gabriel Ribeiro      Paulo Souza         49        4.6\n"
     ]
    }
   ],
   "source": [
    "# Convertendo a coluna Inscritos de float para inteiros\n",
    "dataframe['Inscritos'] = dataframe['Inscritos'].astype(int)\n",
    "\n",
    "print(dataframe)"
   ]
  },
  {
   "cell_type": "code",
   "execution_count": 39,
   "metadata": {},
   "outputs": [
    {
     "name": "stdout",
     "output_type": "stream",
     "text": [
      "   ID_Curso        Instrutor  Inscritos  Avaliacao\n",
      "0     MT101        Ana Silva         55        4.8\n",
      "1     MT101      Bruno Gomes         43        4.9\n",
      "2     MT102      Carlos Dias         60        4.7\n",
      "3     MT102        Ana Silva         58        NaN\n",
      "4     MT102       Luiz Costa         59        4.5\n",
      "5     MT103    Sandra Moraes         47        4.6\n",
      "6     MT103      Bruno Gomes         50        4.7\n",
      "7     MT104      Carlos Dias         52        4.4\n",
      "8     MT104    Sandra Moraes         55        4.8\n",
      "9     FI101  Gabriel Ribeiro         40        4.9\n",
      "10    FI101      Maria Clara         42        4.7\n",
      "11    FI102  Gabriel Ribeiro         39        4.6\n",
      "12    FI102   Roberta Vieira         41        4.8\n",
      "13    FI103      Maria Clara         45        4.6\n",
      "14    FI103       Luiz Costa         48        4.5\n",
      "15    FI104   Roberta Vieira         50        4.7\n",
      "16    FI104        Ana Silva         53        4.8\n",
      "17    HI101    Pedro Álvares         44        4.5\n",
      "18    HI102    Sandra Moraes         46        4.9\n",
      "19    HI103  Gabriel Ribeiro         49        4.6\n"
     ]
    }
   ],
   "source": [
    "# Removendo a coluna 'AE' (Assistente de Ensino)\n",
    "\n",
    "dataframe = dataframe.drop(columns=['AE'])\n",
    "print(dataframe)"
   ]
  },
  {
   "cell_type": "code",
   "execution_count": null,
   "metadata": {},
   "outputs": [
    {
     "name": "stdout",
     "output_type": "stream",
     "text": [
      "   ID_Curso        Instrutor               AE  Inscritos  Avaliacao\n",
      "0     MT101        Ana Silva     Marcos Lopes       55.0        4.8\n",
      "1     MT101      Bruno Gomes        Julia Vaz       43.0        4.9\n",
      "2     MT102      Carlos Dias    Sofia Cardoso       60.0        4.7\n",
      "3     MT102        Ana Silva   Rodrigo Mattos       58.0        NaN\n",
      "4     MT102       Luiz Costa     Marcos Lopes        NaN        4.5\n",
      "5     MT103    Sandra Moraes     Pedro Mendes       47.0        4.6\n",
      "6     MT103      Bruno Gomes  Alice Gonçalves       50.0        4.7\n",
      "7     MT104      Carlos Dias        Julia Vaz       52.0        4.4\n",
      "8     MT104    Sandra Moraes      Paulo Souza       55.0        4.8\n",
      "9     FI101  Gabriel Ribeiro      Carla Souza       40.0        4.9\n",
      "10    FI101      Maria Clara    Sofia Cardoso       42.0        4.7\n",
      "11    FI102  Gabriel Ribeiro      Paulo Souza       39.0        4.6\n",
      "12    FI102   Roberta Vieira     Pedro Mendes       41.0        4.8\n",
      "13    FI103      Maria Clara  Alice Gonçalves       45.0        4.6\n",
      "14    FI103       Luiz Costa    Sofia Cardoso       48.0        4.5\n",
      "15    FI104   Roberta Vieira        Julia Vaz       50.0        4.7\n",
      "16    FI104        Ana Silva     Marcos Lopes       53.0        4.8\n",
      "17    HI101    Pedro Álvares      Carla Souza       44.0        4.5\n",
      "18    HI102    Sandra Moraes     Marcos Lopes       46.0        4.9\n",
      "19    HI103  Gabriel Ribeiro      Paulo Souza       49.0        4.6\n"
     ]
    }
   ],
   "source": [
    "# O método reset_index serve para reindexar o dataframe após a remoção de linhas\n",
    "dataframe.reset_index(drop=True, inplace=True)\n",
    "print(dataframe)"
   ]
  }
 ],
 "metadata": {
  "kernelspec": {
   "display_name": ".venv",
   "language": "python",
   "name": "python3"
  },
  "language_info": {
   "codemirror_mode": {
    "name": "ipython",
    "version": 3
   },
   "file_extension": ".py",
   "mimetype": "text/x-python",
   "name": "python",
   "nbconvert_exporter": "python",
   "pygments_lexer": "ipython3",
   "version": "3.13.1"
  }
 },
 "nbformat": 4,
 "nbformat_minor": 2
}
