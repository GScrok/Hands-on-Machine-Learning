{
 "cells": [
  {
   "cell_type": "code",
   "execution_count": 21,
   "metadata": {},
   "outputs": [
    {
     "name": "stdout",
     "output_type": "stream",
     "text": [
      "   ID   Nome\n",
      "0   1   John\n",
      "1   2    Doe\n",
      "2   3  Smith\n"
     ]
    }
   ],
   "source": [
    "import pandas as pd\n",
    "import numpy as np\n",
    "\n",
    "dataframe = pd.DataFrame(data=[[1, 'John'], [2, 'Doe'], [3, 'Smith']], columns=['ID', 'Nome'])\n",
    "print(dataframe)"
   ]
  },
  {
   "cell_type": "code",
   "execution_count": 22,
   "metadata": {},
   "outputs": [
    {
     "name": "stdout",
     "output_type": "stream",
     "text": [
      "   ID   Nome\n",
      "a   1   John\n",
      "b   2    Doe\n",
      "c   3  Smith\n"
     ]
    }
   ],
   "source": [
    "dataframe = pd.DataFrame(data=[[1, 'John'], [2, 'Doe'], [3, 'Smith']], columns=['ID', 'Nome'], index=['a', 'b', 'c'])\n",
    "print(dataframe)"
   ]
  },
  {
   "cell_type": "code",
   "execution_count": null,
   "metadata": {},
   "outputs": [
    {
     "name": "stdout",
     "output_type": "stream",
     "text": [
      "      ID   Nome  Idade\n",
      "row1   1   John     25\n",
      "row2   2    Doe     30\n",
      "row3   3  Smith     35\n"
     ]
    }
   ],
   "source": [
    "data = {\n",
    "    'ID'   : [1,2,3],\n",
    "    'Nome' : ['John', 'Doe', 'Smith'],\n",
    "    'Idade': [25, 30, 35]\n",
    "}\n",
    "\n",
    "dataframe = pd.DataFrame(data, index=['row1', 'row2', 'row3'])\n",
    "print(dataframe)"
   ]
  },
  {
   "cell_type": "code",
   "execution_count": 24,
   "metadata": {},
   "outputs": [
    {
     "name": "stdout",
     "output_type": "stream",
     "text": [
      "      ID   Nome  Idade  Salário\n",
      "row1   1   John     25     1000\n",
      "row2   2    Doe     30     2000\n",
      "row3   3  Smith     35     3000\n"
     ]
    }
   ],
   "source": [
    "# Adicionando coluna\n",
    "dataframe['Salário'] = [1000, 2000, 3000]\n",
    "print(dataframe)"
   ]
  },
  {
   "cell_type": "code",
   "execution_count": 25,
   "metadata": {},
   "outputs": [
    {
     "name": "stdout",
     "output_type": "stream",
     "text": [
      "          A         B          C\n",
      "primeiro  1  0.000000 2021-01-01\n",
      "segundo   2  1.570796 2021-01-02\n",
      "terceiro  3  3.141593 2021-01-03\n"
     ]
    }
   ],
   "source": [
    "dataframe = pd.DataFrame({\n",
    "    'A': pd.Series([1, 2, 3], index=['primeiro', 'segundo', 'terceiro']),\n",
    "    'B': np.linspace(0, np.pi, 3),\n",
    "    'C': pd.date_range(start='20210101', periods=3, freq='D')\n",
    "})\n",
    "\n",
    "print(dataframe)"
   ]
  }
 ],
 "metadata": {
  "kernelspec": {
   "display_name": ".venv",
   "language": "python",
   "name": "python3"
  },
  "language_info": {
   "codemirror_mode": {
    "name": "ipython",
    "version": 3
   },
   "file_extension": ".py",
   "mimetype": "text/x-python",
   "name": "python",
   "nbconvert_exporter": "python",
   "pygments_lexer": "ipython3",
   "version": "3.13.1"
  }
 },
 "nbformat": 4,
 "nbformat_minor": 2
}
