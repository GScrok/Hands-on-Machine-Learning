{
 "cells": [
  {
   "cell_type": "code",
   "execution_count": null,
   "metadata": {},
   "outputs": [
    {
     "name": "stdout",
     "output_type": "stream",
     "text": [
      "[25, 30, 35]\n",
      "0    25\n",
      "1    30\n",
      "2    35\n",
      "dtype: int64\n"
     ]
    }
   ],
   "source": [
    "import pandas as pd\n",
    "\n",
    "idades = [25, 30, 35]\n",
    "serie_idades = pd.Series(idades)\n",
    "print(serie_idades)"
   ]
  },
  {
   "cell_type": "code",
   "execution_count": 9,
   "metadata": {},
   "outputs": [
    {
     "name": "stdout",
     "output_type": "stream",
     "text": [
      "João     25\n",
      "Maria    30\n",
      "José     35\n",
      "dtype: int64\n"
     ]
    }
   ],
   "source": [
    "# Criando uma Series com índices personalizados\n",
    "serie_nomes_idades = pd.Series(idades, index=['João', 'Maria', 'José'])\n",
    "print(serie_nomes_idades)"
   ]
  },
  {
   "cell_type": "code",
   "execution_count": 10,
   "metadata": {},
   "outputs": [
    {
     "name": "stdout",
     "output_type": "stream",
     "text": [
      "0       100\n",
      "1    Python\n",
      "2      3.14\n",
      "dtype: object\n"
     ]
    }
   ],
   "source": [
    "serie_mista = pd.Series(data=[100, 'Python', 3.14])\n",
    "print(serie_mista)"
   ]
  },
  {
   "cell_type": "code",
   "execution_count": null,
   "metadata": {},
   "outputs": [
    {
     "name": "stdout",
     "output_type": "stream",
     "text": [
      "João     25\n",
      "Maria    30\n",
      "José     35\n",
      "dtype: int64\n"
     ]
    }
   ],
   "source": [
    "# Criando Series a partir de um dicionário\n",
    "serie_dict = pd.Series({'João': 25, 'Maria': 30, 'José': 35})\n",
    "print(serie_dict)"
   ]
  }
 ],
 "metadata": {
  "kernelspec": {
   "display_name": ".venv",
   "language": "python",
   "name": "python3"
  },
  "language_info": {
   "codemirror_mode": {
    "name": "ipython",
    "version": 3
   },
   "file_extension": ".py",
   "mimetype": "text/x-python",
   "name": "python",
   "nbconvert_exporter": "python",
   "pygments_lexer": "ipython3",
   "version": "3.13.1"
  }
 },
 "nbformat": 4,
 "nbformat_minor": 2
}
