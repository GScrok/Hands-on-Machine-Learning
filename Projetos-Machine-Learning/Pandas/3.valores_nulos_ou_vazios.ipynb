{
 "cells": [
  {
   "cell_type": "code",
   "execution_count": 19,
   "metadata": {},
   "outputs": [
    {
     "name": "stdout",
     "output_type": "stream",
     "text": [
      "Jan    25.3\n",
      "Fev     NaN\n",
      "Mar    27.5\n",
      "Abr    23.9\n",
      "Mai    28.3\n",
      "Jun    30.1\n",
      "Jul     NaN\n",
      "Ago    24.8\n",
      "Set    27.6\n",
      "Out    25.9\n",
      "Nov    28.3\n",
      "Dez    26.9\n",
      "dtype: float64\n"
     ]
    }
   ],
   "source": [
    "import numpy as np\n",
    "import pandas as pd\n",
    "\n",
    "temperaturas = pd.Series([25.3, np.nan, 27.5, 23.9, 28.3, 30.1, np.nan, 24.8, 27.6, 25.9, 28.3, 26.9], \n",
    "                               index=['Jan', 'Fev', 'Mar', 'Abr', 'Mai', 'Jun', 'Jul', 'Ago', 'Set', 'Out', 'Nov', 'Dez'])\n",
    "\n",
    "print(temperaturas)"
   ]
  },
  {
   "cell_type": "code",
   "execution_count": 20,
   "metadata": {},
   "outputs": [
    {
     "name": "stdout",
     "output_type": "stream",
     "text": [
      "Lista de valores nulos:  Jan    False\n",
      "Fev     True\n",
      "Mar    False\n",
      "Abr    False\n",
      "Mai    False\n",
      "Jun    False\n",
      "Jul     True\n",
      "Ago    False\n",
      "Set    False\n",
      "Out    False\n",
      "Nov    False\n",
      "Dez    False\n",
      "dtype: bool\n"
     ]
    }
   ],
   "source": [
    "nulos = temperaturas.isnull()\n",
    "print(\"Lista de valores nulos: \", nulos)"
   ]
  },
  {
   "cell_type": "code",
   "execution_count": 21,
   "metadata": {},
   "outputs": [
    {
     "name": "stdout",
     "output_type": "stream",
     "text": [
      "Jan    25.30\n",
      "Fev    26.86\n",
      "Mar    27.50\n",
      "Abr    23.90\n",
      "Mai    28.30\n",
      "Jun    30.10\n",
      "Jul    26.86\n",
      "Ago    24.80\n",
      "Set    27.60\n",
      "Out    25.90\n",
      "Nov    28.30\n",
      "Dez    26.90\n",
      "dtype: float64\n"
     ]
    }
   ],
   "source": [
    "# Preencher valores nulos\n",
    "temperaturas_alteradas = temperaturas.fillna(temperaturas.mean())\n",
    "print(temperaturas_alteradas)\n"
   ]
  },
  {
   "cell_type": "code",
   "execution_count": 22,
   "metadata": {},
   "outputs": [
    {
     "name": "stdout",
     "output_type": "stream",
     "text": [
      "Jan    25.3\n",
      "Mar    27.5\n",
      "Abr    23.9\n",
      "Mai    28.3\n",
      "Jun    30.1\n",
      "Ago    24.8\n",
      "Set    27.6\n",
      "Out    25.9\n",
      "Nov    28.3\n",
      "Dez    26.9\n",
      "dtype: float64\n"
     ]
    }
   ],
   "source": [
    "# Possibilidade de remover valores nulos ((inplace=True) para alterar o objeto original)\n",
    "temperaturas.dropna(inplace=True)\n",
    "print(temperaturas)"
   ]
  }
 ],
 "metadata": {
  "kernelspec": {
   "display_name": ".venv",
   "language": "python",
   "name": "python3"
  },
  "language_info": {
   "codemirror_mode": {
    "name": "ipython",
    "version": 3
   },
   "file_extension": ".py",
   "mimetype": "text/x-python",
   "name": "python",
   "nbconvert_exporter": "python",
   "pygments_lexer": "ipython3",
   "version": "3.13.1"
  }
 },
 "nbformat": 4,
 "nbformat_minor": 2
}
